{
 "cells": [
  {
   "cell_type": "code",
   "execution_count": 1,
   "metadata": {},
   "outputs": [
    {
     "name": "stdout",
     "output_type": "stream",
     "text": [
      "Status code: 200\n",
      "id: 28058816\tstatus: 200\n",
      "id: 28058888\tstatus: 200\n",
      "id: 28059291\tstatus: 200\n",
      "id: 28059447\tstatus: 200\n",
      "id: 28059162\tstatus: 200\n",
      "id: 28031400\tstatus: 200\n",
      "id: 28054606\tstatus: 200\n",
      "id: 28054789\tstatus: 200\n",
      "id: 28058923\tstatus: 200\n",
      "id: 28055897\tstatus: 200\n",
      "id: 28058742\tstatus: 200\n",
      "id: 28045342\tstatus: 200\n",
      "id: 28058078\tstatus: 200\n",
      "id: 28056943\tstatus: 200\n",
      "id: 28039028\tstatus: 200\n",
      "id: 28035143\tstatus: 200\n",
      "id: 28035213\tstatus: 200\n",
      "id: 28058466\tstatus: 200\n",
      "id: 28050750\tstatus: 200\n",
      "id: 28049500\tstatus: 200\n",
      "id: 28055824\tstatus: 200\n",
      "id: 28025544\tstatus: 200\n",
      "id: 28048267\tstatus: 200\n",
      "id: 28057494\tstatus: 200\n",
      "id: 28048258\tstatus: 200\n",
      "id: 28056526\tstatus: 200\n",
      "id: 28053398\tstatus: 200\n",
      "id: 28036235\tstatus: 200\n",
      "id: 28053168\tstatus: 200\n",
      "id: 28054017\tstatus: 200\n",
      "[{'title': 'NSA Kubernetes Hardening Guidance [pdf]', 'hn_link': 'http://news.ycombinator.com/item?id=28050750', 'points': 557}, {'title': 'Where are the robotic bricklayers?', 'hn_link': 'http://news.ycombinator.com/item?id=28054606', 'points': 363}, {'title': 'The 5-Hour CDN', 'hn_link': 'http://news.ycombinator.com/item?id=28053168', 'points': 352}, {'title': 'Bye CUPS: Printing with Netcat', 'hn_link': 'http://news.ycombinator.com/item?id=28054789', 'points': 341}, {'title': 'Apple iPhone charger teardown: quality in a tiny expensive package (2012)', 'hn_link': 'http://news.ycombinator.com/item?id=28053398', 'points': 339}, {'title': 'The surreal experience of my first developer job', 'hn_link': 'http://news.ycombinator.com/item?id=28058816', 'points': 142}, {'title': 'GAN-generated facial images that are capable of impersonating multiple IDs', 'hn_link': 'http://news.ycombinator.com/item?id=28058923', 'points': 118}, {'title': 'Law school applicants surge 13%, biggest increase since dot-com bubble', 'hn_link': 'http://news.ycombinator.com/item?id=28055897', 'points': 98}, {'title': 'Who Were the Romans, Part V: Saving and Losing an Empire', 'hn_link': 'http://news.ycombinator.com/item?id=28039028', 'points': 75}, {'title': 'Launch YC: 3D Web; Training; Child privacy; Pregnancy; Life science; Desk rental', 'hn_link': 'http://news.ycombinator.com/item?id=28049500', 'points': 75}, {'title': 'Simple Systems Have Less Downtime (2020)', 'hn_link': 'http://news.ycombinator.com/item?id=28058888', 'points': 68}, {'title': 'Sparse Array Beamforming with a Phase Coherent 21-Channel RTL-SDR Array', 'hn_link': 'http://news.ycombinator.com/item?id=28054017', 'points': 66}, {'title': 'Testing quantum mechanics in space', 'hn_link': 'http://news.ycombinator.com/item?id=28055824', 'points': 63}, {'title': 'The Education of Melvyn Bragg', 'hn_link': 'http://news.ycombinator.com/item?id=28048267', 'points': 62}, {'title': 'Where Do Models Go Wrong? Parameter-Space Saliency Maps for Explainability', 'hn_link': 'http://news.ycombinator.com/item?id=28056526', 'points': 61}, {'title': 'Ancient Roman ship laden with wine jars discovered off Sicily', 'hn_link': 'http://news.ycombinator.com/item?id=28031400', 'points': 59}, {'title': 'Elm-Pages 2.0', 'hn_link': 'http://news.ycombinator.com/item?id=28057494', 'points': 58}, {'title': 'What we lost – a paean, perhaps, to RSS', 'hn_link': 'http://news.ycombinator.com/item?id=28036235', 'points': 57}, {'title': \"A Soviet Prisoner's View on What's Important\", 'hn_link': 'http://news.ycombinator.com/item?id=28035213', 'points': 54}, {'title': 'Are dynamic languages going to replace static languages? (2003)', 'hn_link': 'http://news.ycombinator.com/item?id=28056943', 'points': 50}, {'title': 'Going mouseless', 'hn_link': 'http://news.ycombinator.com/item?id=28045342', 'points': 25}, {'title': 'Show HN: Till – Unblock and scale your web scrapers, with minimal code changes', 'hn_link': 'http://news.ycombinator.com/item?id=28059291', 'points': 22}, {'title': 'A Long, Painful History of Time (1999)', 'hn_link': 'http://news.ycombinator.com/item?id=28048258', 'points': 22}, {'title': 'Difference between DevOps, SecOps and DevSecOps', 'hn_link': 'http://news.ycombinator.com/item?id=28059162', 'points': 18}, {'title': 'Are our immune systems out of practice?', 'hn_link': 'http://news.ycombinator.com/item?id=28059447', 'points': 16}, {'title': 'Varnish: Notes from the Architect', 'hn_link': 'http://news.ycombinator.com/item?id=28035143', 'points': 12}, {'title': 'Pitfalls of Data Anonymization', 'hn_link': 'http://news.ycombinator.com/item?id=28058466', 'points': 11}, {'title': 'Galois Groups and the Symmetries of Polynomials', 'hn_link': 'http://news.ycombinator.com/item?id=28058742', 'points': 9}, {'title': 'Prep Act Q&As', 'hn_link': 'http://news.ycombinator.com/item?id=28025544', 'points': 8}, {'title': 'Jupiter (YC S19) Is Hiring Senior Software Engineers, Mobile, QA (Remote/SF)', 'hn_link': 'http://news.ycombinator.com/item?id=28058078', 'points': 1}]\n"
     ]
    },
    {
     "data": {
      "text/plain": [
       "'hacker_news_top_articles.html'"
      ]
     },
     "execution_count": 1,
     "metadata": {},
     "output_type": "execute_result"
    }
   ],
   "source": [
    "from operator import itemgetter\n",
    "import requests\n",
    "from plotly.graph_objs import Bar\n",
    "from plotly import offline\n",
    "\n",
    "'''The following code visualizes top 30 articles on Hacker News based on their scores. It is based on \n",
    "the exercise in PythonCrashCourse.'''\n",
    "\n",
    "# Make an API call, and store the response.\n",
    "\n",
    "url = 'https://hacker-news.firebaseio.com/v0/topstories.json'\n",
    "r = requests.get(url)\n",
    "print(f\"Status code: {r.status_code}\") \n",
    "\n",
    "# Process information about each submission.\n",
    "submission_ids = r.json()\n",
    "submission_dicts = []\n",
    "\n",
    "for submission_id in submission_ids[:30]:\n",
    "    # Make a separate API call for each submission.\n",
    "    url = f\"https://hacker-news.firebaseio.com/v0/item/{submission_id}.json\"\n",
    "    r = requests.get(url)\n",
    "    print(f\"id: {submission_id}\\tstatus: {r.status_code}\")\n",
    "    response_dict = r.json()\n",
    "    \n",
    "    # Build a dictionary for each article.\n",
    "    submission_dict = {\n",
    "        'title': response_dict['title'],\n",
    "        'hn_link': f\"http://news.ycombinator.com/item?id={submission_id}\",\n",
    "        'points': response_dict['score'],\n",
    "    }\n",
    "    submission_dicts.append(submission_dict)\n",
    "\n",
    "submission_dicts = sorted(submission_dicts, key=itemgetter('points'), reverse=True)    \n",
    "print(submission_dicts)\n",
    "\n",
    "\n",
    "# Make visualization.\n",
    "data =[{\n",
    "    'type': 'bar',\n",
    "    'x': [f\"<a href='{dic['hn_link']}'>{dic['title']}</a>\" for dic in submission_dicts],\n",
    "    'y': [point['points'] for point in submission_dicts],\n",
    "#     'hovertext': labels,\n",
    "    'marker': {\n",
    "        'color': 'rgb(60,100,150)',\n",
    "        'line': {'width': 1.5, 'color': 'rgb(25,25,25)'},\n",
    "    },\n",
    "    'opacity': 0.6,\n",
    "}]\n",
    "\n",
    "my_layout = {\n",
    "    'title': 'Top 30 Articles on Hacker News',\n",
    "    'titlefont': {'size': 28},\n",
    "    'xaxis': {\n",
    "        'title': 'Articles',\n",
    "        'titlefont': {'size': 24},\n",
    "        'tickfont': {'size': 14},\n",
    "    },\n",
    "    'yaxis': {\n",
    "        'title': 'Points',\n",
    "        'titlefont': {'size': 24},\n",
    "        'tickfont': {'size': 14},\n",
    "    },\n",
    "}\n",
    "fig = {'data': data, 'layout': my_layout}\n",
    "offline.plot(fig, filename='hacker_news_top_articles.html')"
   ]
  }
 ],
 "metadata": {
  "kernelspec": {
   "display_name": "Python 3",
   "language": "python",
   "name": "python3"
  },
  "language_info": {
   "codemirror_mode": {
    "name": "ipython",
    "version": 3
   },
   "file_extension": ".py",
   "mimetype": "text/x-python",
   "name": "python",
   "nbconvert_exporter": "python",
   "pygments_lexer": "ipython3",
   "version": "3.8.5"
  }
 },
 "nbformat": 4,
 "nbformat_minor": 4
}
