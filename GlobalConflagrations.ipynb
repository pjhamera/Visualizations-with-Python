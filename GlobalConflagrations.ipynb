{
 "cells": [
  {
   "cell_type": "code",
   "execution_count": 1,
   "metadata": {},
   "outputs": [
    {
     "data": {
      "text/plain": [
       "'global_conflagrations.html'"
      ]
     },
     "execution_count": 1,
     "metadata": {},
     "output_type": "execute_result"
    }
   ],
   "source": [
    "'''The following code parses a csv file with data on fires around the world and visualizes it with plotly. \n",
    "It is an exercise from the book Python Crash Course'''\n",
    "\n",
    "import csv\n",
    "from datetime import datetime\n",
    "from plotly.graph_objs import Scattergeo, Layout \n",
    "from plotly import offline\n",
    "\n",
    "num_rows = 50_000\n",
    "\n",
    "filename = 'J1_VIIRS_C2_Global_7d.csv'\n",
    "with open(filename) as f:\n",
    "    reader = csv.reader(f)\n",
    "    header_row = next(reader)\n",
    "    \n",
    "#     print(header_row)\n",
    "    dates, brightnesses = [], []\n",
    "    lats, lons = [], []\n",
    "    hover_texts = []\n",
    "    row_num = 0\n",
    "    for row in reader:\n",
    "        date = datetime.strptime(row[5], '%Y-%m-%d')                            \n",
    "        brightness = float(row[2])\n",
    "        label = f\"{date.strftime('%m/%d/%y')} - {brightness}\"\n",
    "        dates.append(date)\n",
    "        brightnesses.append(brightness)\n",
    "        lats.append(row[0])\n",
    "        lons.append(row[1])\n",
    "        hover_texts.append(label)\n",
    "        \n",
    "        row_num += 1\n",
    "        if row_num == num_rows:\n",
    "            break\n",
    "        \n",
    "data = [{\n",
    "    'type': 'scattergeo',\n",
    "    'lon': lons,\n",
    "    'lat': lats,\n",
    "    'text': hover_texts,\n",
    "    'marker':{\n",
    "        'size': [brightness/20 for brightness in brightnesses],\n",
    "        'color': brightnesses,\n",
    "        'colorscale': 'YlOrRd',\n",
    "        'reversescale': False,\n",
    "        'colorbar': {'title': 'Brightness'},\n",
    "    },\n",
    "}]\n",
    "\n",
    "my_layout = Layout(title='Global Fire Activity')\n",
    "\n",
    "fig = {'data': data, 'layout': my_layout}\n",
    "offline.plot(fig, filename='global_conflagrations.html')    "
   ]
  },
  {
   "cell_type": "code",
   "execution_count": null,
   "metadata": {},
   "outputs": [],
   "source": []
  }
 ],
 "metadata": {
  "kernelspec": {
   "display_name": "Python 3",
   "language": "python",
   "name": "python3"
  },
  "language_info": {
   "codemirror_mode": {
    "name": "ipython",
    "version": 3
   },
   "file_extension": ".py",
   "mimetype": "text/x-python",
   "name": "python",
   "nbconvert_exporter": "python",
   "pygments_lexer": "ipython3",
   "version": "3.8.5"
  }
 },
 "nbformat": 4,
 "nbformat_minor": 4
}
